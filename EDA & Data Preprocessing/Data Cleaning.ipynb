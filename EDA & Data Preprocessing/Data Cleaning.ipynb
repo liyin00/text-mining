{
 "cells": [
  {
   "cell_type": "markdown",
   "id": "c1ac8cfe",
   "metadata": {},
   "source": [
    "Steps performed for data cleaning: \n",
    "1. @username removal \n",
    "2. urls removal \n",
    "3. spelling correction - speller & autocorrect \n",
    "4. hashtags collection\n",
    "5. contractions expansion \n",
    "6. == as topic of wikipedia"
   ]
  },
  {
   "cell_type": "code",
   "execution_count": 1,
   "id": "d935a80b",
   "metadata": {},
   "outputs": [
    {
     "name": "stdout",
     "output_type": "stream",
     "text": [
      "Requirement already satisfied: pyspellchecker in c:\\users\\lingl\\anaconda3\\lib\\site-packages (0.6.3)\n"
     ]
    },
    {
     "name": "stderr",
     "output_type": "stream",
     "text": [
      "WARNING: You are using pip version 22.0.3; however, version 22.0.4 is available.\n",
      "You should consider upgrading via the 'c:\\users\\lingl\\anaconda3\\python.exe -m pip install --upgrade pip' command.\n"
     ]
    }
   ],
   "source": [
    "# spelling correction library based on Norvig's implementation\n",
    "!pip install pyspellchecker "
   ]
  },
  {
   "cell_type": "code",
   "execution_count": 2,
   "id": "2bf33941",
   "metadata": {},
   "outputs": [
    {
     "name": "stdout",
     "output_type": "stream",
     "text": [
      "Requirement already satisfied: contractions in c:\\users\\lingl\\anaconda3\\lib\\site-packages (0.1.66)\n",
      "Requirement already satisfied: textsearch>=0.0.21 in c:\\users\\lingl\\anaconda3\\lib\\site-packages (from contractions) (0.0.21)\n",
      "Requirement already satisfied: anyascii in c:\\users\\lingl\\anaconda3\\lib\\site-packages (from textsearch>=0.0.21->contractions) (0.3.0)\n",
      "Requirement already satisfied: pyahocorasick in c:\\users\\lingl\\anaconda3\\lib\\site-packages (from textsearch>=0.0.21->contractions) (1.4.2)\n"
     ]
    },
    {
     "name": "stderr",
     "output_type": "stream",
     "text": [
      "WARNING: You are using pip version 22.0.3; however, version 22.0.4 is available.\n",
      "You should consider upgrading via the 'c:\\users\\lingl\\anaconda3\\python.exe -m pip install --upgrade pip' command.\n"
     ]
    }
   ],
   "source": [
    "# contractions expansion library\n",
    "!pip install contractions "
   ]
  },
  {
   "cell_type": "code",
   "execution_count": 3,
   "id": "703ce657",
   "metadata": {},
   "outputs": [
    {
     "data": {
      "text/html": [
       "<div>\n",
       "<style scoped>\n",
       "    .dataframe tbody tr th:only-of-type {\n",
       "        vertical-align: middle;\n",
       "    }\n",
       "\n",
       "    .dataframe tbody tr th {\n",
       "        vertical-align: top;\n",
       "    }\n",
       "\n",
       "    .dataframe thead th {\n",
       "        text-align: right;\n",
       "    }\n",
       "</style>\n",
       "<table border=\"1\" class=\"dataframe\">\n",
       "  <thead>\n",
       "    <tr style=\"text-align: right;\">\n",
       "      <th></th>\n",
       "      <th>Text</th>\n",
       "      <th>oh_label</th>\n",
       "      <th>Label</th>\n",
       "    </tr>\n",
       "  </thead>\n",
       "  <tbody>\n",
       "    <tr>\n",
       "      <th>0</th>\n",
       "      <td>`- This is not ``creative``.  Those are the di...</td>\n",
       "      <td>0</td>\n",
       "      <td>0</td>\n",
       "    </tr>\n",
       "    <tr>\n",
       "      <th>1</th>\n",
       "      <td>`  :: the term ``standard model`` is itself le...</td>\n",
       "      <td>0</td>\n",
       "      <td>0</td>\n",
       "    </tr>\n",
       "    <tr>\n",
       "      <th>2</th>\n",
       "      <td>True or false, the situation as of March 200...</td>\n",
       "      <td>0</td>\n",
       "      <td>0</td>\n",
       "    </tr>\n",
       "    <tr>\n",
       "      <th>3</th>\n",
       "      <td>Next, maybe you could work on being less cond...</td>\n",
       "      <td>0</td>\n",
       "      <td>0</td>\n",
       "    </tr>\n",
       "    <tr>\n",
       "      <th>4</th>\n",
       "      <td>This page will need disambiguation.</td>\n",
       "      <td>0</td>\n",
       "      <td>0</td>\n",
       "    </tr>\n",
       "    <tr>\n",
       "      <th>...</th>\n",
       "      <td>...</td>\n",
       "      <td>...</td>\n",
       "      <td>...</td>\n",
       "    </tr>\n",
       "    <tr>\n",
       "      <th>205173</th>\n",
       "      <td>228((( real!!!! by walt disney=</td>\n",
       "      <td>0</td>\n",
       "      <td>0</td>\n",
       "    </tr>\n",
       "    <tr>\n",
       "      <th>205174</th>\n",
       "      <td>Status-Online Im ZxkillergirlzX! I'm Zxkillerg...</td>\n",
       "      <td>0</td>\n",
       "      <td>0</td>\n",
       "    </tr>\n",
       "    <tr>\n",
       "      <th>205175</th>\n",
       "      <td>JR so cute EXO M Better I agree like yeah yeah...</td>\n",
       "      <td>0</td>\n",
       "      <td>0</td>\n",
       "    </tr>\n",
       "    <tr>\n",
       "      <th>205176</th>\n",
       "      <td>! !</td>\n",
       "      <td>0</td>\n",
       "      <td>0</td>\n",
       "    </tr>\n",
       "    <tr>\n",
       "      <th>205177</th>\n",
       "      <td>great video and MERRY CHRISTMAS from greece :*...</td>\n",
       "      <td>0</td>\n",
       "      <td>0</td>\n",
       "    </tr>\n",
       "  </tbody>\n",
       "</table>\n",
       "<p>205178 rows × 3 columns</p>\n",
       "</div>"
      ],
      "text/plain": [
       "                                                     Text  oh_label  Label\n",
       "0       `- This is not ``creative``.  Those are the di...         0      0\n",
       "1       `  :: the term ``standard model`` is itself le...         0      0\n",
       "2         True or false, the situation as of March 200...         0      0\n",
       "3        Next, maybe you could work on being less cond...         0      0\n",
       "4                    This page will need disambiguation.          0      0\n",
       "...                                                   ...       ...    ...\n",
       "205173                    228((( real!!!! by walt disney=         0      0\n",
       "205174  Status-Online Im ZxkillergirlzX! I'm Zxkillerg...         0      0\n",
       "205175  JR so cute EXO M Better I agree like yeah yeah...         0      0\n",
       "205176                                                ! !         0      0\n",
       "205177  great video and MERRY CHRISTMAS from greece :*...         0      0\n",
       "\n",
       "[205178 rows x 3 columns]"
      ]
     },
     "execution_count": 3,
     "metadata": {},
     "output_type": "execute_result"
    }
   ],
   "source": [
    "import pandas as pd \n",
    "df = pd.read_csv(\"to_clean.csv\")\n",
    "df"
   ]
  },
  {
   "cell_type": "code",
   "execution_count": 4,
   "id": "8bbad6a6",
   "metadata": {
    "scrolled": true
   },
   "outputs": [
    {
     "data": {
      "text/plain": [
       "0    178629\n",
       "1     25879\n",
       "2       670\n",
       "Name: Label, dtype: int64"
      ]
     },
     "execution_count": 4,
     "metadata": {},
     "output_type": "execute_result"
    }
   ],
   "source": [
    "df.Label.value_counts()"
   ]
  },
  {
   "cell_type": "code",
   "execution_count": 5,
   "id": "35140934",
   "metadata": {},
   "outputs": [],
   "source": [
    "# carry out stratified sampling of 10 records from each class first \n",
    "import numpy as np \n",
    "# sample = df.groupby('Label', group_keys=False).apply(lambda x: x.sample(10))"
   ]
  },
  {
   "cell_type": "code",
   "execution_count": 6,
   "id": "4a3398dc",
   "metadata": {},
   "outputs": [],
   "source": [
    "df['user_dropped'] = \"\""
   ]
  },
  {
   "cell_type": "code",
   "execution_count": 7,
   "id": "4a2bac55",
   "metadata": {},
   "outputs": [],
   "source": [
    "# drop all usernames\n",
    "for index, row in df.iterrows():\n",
    "    text_content = row['Text'].split(\" \")\n",
    "    user_dropped = []\n",
    "    final = []\n",
    "    for i in text_content:\n",
    "        if \"@\" not in i:\n",
    "            final.append(i)\n",
    "    df.loc[index, 'user_dropped'] = \" \".join(final)"
   ]
  },
  {
   "cell_type": "code",
   "execution_count": 8,
   "id": "d2a3599c",
   "metadata": {},
   "outputs": [],
   "source": [
    "df['url_dropped'] = \"\""
   ]
  },
  {
   "cell_type": "code",
   "execution_count": null,
   "id": "6cbf1ac1",
   "metadata": {},
   "outputs": [],
   "source": [
    "# drop all urls\n",
    "for index, row in df.iterrows():\n",
    "    text_content = row['user_dropped'].split(\" \")\n",
    "    url_dropped = []\n",
    "    final = []\n",
    "    for i in text_content:\n",
    "        if \"http\" not in i and \"https\" not in i and \".com\" not in i and \"www\" not in i and \".co\" not in i:\n",
    "            final.append(i)\n",
    "        df.loc[index, 'url_dropped'] = \" \".join(final)"
   ]
  },
  {
   "cell_type": "code",
   "execution_count": null,
   "id": "3a803af6",
   "metadata": {},
   "outputs": [],
   "source": [
    "df['spelling_corrected'] = \"\""
   ]
  },
  {
   "cell_type": "code",
   "execution_count": null,
   "id": "b48ab6fe",
   "metadata": {},
   "outputs": [],
   "source": [
    "# spelling correction \n",
    "\n",
    "from spellchecker import SpellChecker\n",
    "spell = SpellChecker()\n",
    "\n",
    "for index, row in df.iterrows():\n",
    "    text_content = row['url_dropped'].split(\" \")\n",
    "    final = []\n",
    "    for i in text_content:\n",
    "        if i.startswith(\"#\"):\n",
    "            pass\n",
    "        elif spell.unknown(i):\n",
    "            i = spell.correction(i)\n",
    "        final.append(i)\n",
    "    df.loc[index, 'spelling_corrected'] = \" \".join(final)"
   ]
  },
  {
   "cell_type": "markdown",
   "id": "564a168a",
   "metadata": {},
   "source": [
    "Findings: Spellchecker changes all slangs into formal words, which may be unfavourable for our analysis. As such, I performed the other types of cleaning on the data prior to any spelling corrections."
   ]
  },
  {
   "cell_type": "code",
   "execution_count": null,
   "id": "11d83ed1",
   "metadata": {},
   "outputs": [],
   "source": [
    "df['hashtag_topics'] = \"\""
   ]
  },
  {
   "cell_type": "code",
   "execution_count": null,
   "id": "5ce52e06",
   "metadata": {},
   "outputs": [],
   "source": [
    "# hastags as a topic \n",
    "for index, row in df.iterrows():\n",
    "    text_content = row['url_dropped'].split(\" \")\n",
    "    final = []\n",
    "    for i in text_content:\n",
    "        if i.startswith(\"#\"):\n",
    "            final.append(i)\n",
    "    df.loc[index, 'hashtag_topics'] = \",\".join(final)"
   ]
  },
  {
   "cell_type": "code",
   "execution_count": null,
   "id": "a074cd01",
   "metadata": {},
   "outputs": [],
   "source": [
    "df['expanded'] = \"\""
   ]
  },
  {
   "cell_type": "code",
   "execution_count": null,
   "id": "21033839",
   "metadata": {},
   "outputs": [],
   "source": [
    "# contractions expansion \n",
    "import contractions \n",
    "for index, row in df.iterrows():\n",
    "    text_content = row['url_dropped'].split(\" \")\n",
    "    final = []\n",
    "    for i in text_content:\n",
    "        i = contractions.fix(i)\n",
    "        final.append(i)\n",
    "    df.loc[index, 'expanded'] = \" \".join(final)"
   ]
  },
  {
   "cell_type": "code",
   "execution_count": null,
   "id": "062e6125",
   "metadata": {},
   "outputs": [],
   "source": [
    "# == as wikipedia topics \n",
    "for index, row in df.iterrows():\n",
    "    text_content = row['url_dropped'] \n",
    "    if len(re.findall(\"==\", text_content)) >= 2:\n",
    "        occurences = [m.start() for m in re.finditer(r\"==\",text_content)]\n",
    "        topic = text_content[occurences[0]+2:occurences[1]]\n",
    "        topic = topic.strip()\n",
    "#         print(topic)\n",
    "        df.loc[index, 'wiki_topics'] = topic"
   ]
  },
  {
   "cell_type": "code",
   "execution_count": null,
   "id": "09c5b328",
   "metadata": {},
   "outputs": [],
   "source": [
    "df.to_csv(\"clean2.csv\")"
   ]
  }
 ],
 "metadata": {
  "kernelspec": {
   "display_name": "Python 3",
   "language": "python",
   "name": "python3"
  },
  "language_info": {
   "codemirror_mode": {
    "name": "ipython",
    "version": 3
   },
   "file_extension": ".py",
   "mimetype": "text/x-python",
   "name": "python",
   "nbconvert_exporter": "python",
   "pygments_lexer": "ipython3",
   "version": "3.8.8"
  }
 },
 "nbformat": 4,
 "nbformat_minor": 5
}
