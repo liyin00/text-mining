{
 "cells": [
  {
   "cell_type": "code",
   "execution_count": null,
   "metadata": {
    "colab": {
     "base_uri": "https://localhost:8080/"
    },
    "id": "qKkgo5MFVZt1",
    "outputId": "188c57bc-2a08-475e-a4da-29f23390c2a6"
   },
   "outputs": [
    {
     "name": "stdout",
     "output_type": "stream",
     "text": [
      "[nltk_data] Downloading package punkt to /root/nltk_data...\n",
      "[nltk_data]   Unzipping tokenizers/punkt.zip.\n",
      "[nltk_data] Downloading package stopwords to /root/nltk_data...\n",
      "[nltk_data]   Unzipping corpora/stopwords.zip.\n"
     ]
    },
    {
     "data": {
      "text/plain": [
       "True"
      ]
     },
     "execution_count": 2,
     "metadata": {},
     "output_type": "execute_result"
    }
   ],
   "source": [
    "import pandas as pd\n",
    "import numpy as np\n",
    "import nltk\n",
    "from sklearn.model_selection import train_test_split\n",
    "from sklearn.metrics import accuracy_score\n",
    "from sklearn.metrics import classification_report\n",
    "from sklearn.svm import LinearSVC\n",
    "from sklearn.naive_bayes import MultinomialNB\n",
    "from sklearn.ensemble import RandomForestClassifier \n",
    "from sklearn.linear_model import LogisticRegression\n",
    "import lightgbm as lgb\n",
    "from lightgbm import LGBMClassifier\n",
    "from sklearn import metrics\n",
    "from sklearn.pipeline import Pipeline\n",
    "from sklearn.compose import ColumnTransformer\n",
    "from sklearn.feature_extraction.text import CountVectorizer\n",
    "from sklearn.feature_extraction.text import TfidfTransformer\n",
    "from sklearn.feature_extraction.text import TfidfVectorizer\n",
    "from xgboost import XGBClassifier\n",
    "from sklearn import svm\n",
    "import matplotlib.pyplot as plt\n",
    "\n",
    "\n",
    "\n",
    "nltk.download('punkt')\n",
    "nltk.download('stopwords')"
   ]
  },
  {
   "cell_type": "code",
   "execution_count": null,
   "metadata": {
    "id": "p0AbWCRGYqzo"
   },
   "outputs": [],
   "source": [
    "df = pd.read_csv('summarised_weighted_discourse.csv')"
   ]
  },
  {
   "cell_type": "markdown",
   "metadata": {
    "id": "dtP4KWl0gZhL"
   },
   "source": [
    "# Classifier Input: Summarised Records "
   ]
  },
  {
   "cell_type": "code",
   "execution_count": null,
   "metadata": {
    "colab": {
     "base_uri": "https://localhost:8080/"
    },
    "id": "UOA_efdqBHWu",
    "outputId": "e6d09d08-9016-41f9-ee84-ec5814d468d9"
   },
   "outputs": [
    {
     "name": "stdout",
     "output_type": "stream",
     "text": [
      "<class 'pandas.core.frame.DataFrame'>\n",
      "RangeIndex: 2010 entries, 0 to 2009\n",
      "Data columns (total 2 columns):\n",
      " #   Column                Non-Null Count  Dtype \n",
      "---  ------                --------------  ----- \n",
      " 0   summarised_sentences  2010 non-null   object\n",
      " 1   Label                 2010 non-null   int64 \n",
      "dtypes: int64(1), object(1)\n",
      "memory usage: 31.5+ KB\n"
     ]
    }
   ],
   "source": [
    "use_df = df[['summarised_sentences','Label']].copy()\n",
    "use_df\n",
    "use_df.info()"
   ]
  },
  {
   "cell_type": "code",
   "execution_count": null,
   "metadata": {
    "colab": {
     "base_uri": "https://localhost:8080/",
     "height": 423
    },
    "id": "1cBsQLnXBcP9",
    "outputId": "47123ca7-f9a6-414a-c402-5d3540e6af84"
   },
   "outputs": [
    {
     "data": {
      "text/html": [
       "\n",
       "  <div id=\"df-6476a731-1f91-4fff-ae6d-e3f5590c500c\">\n",
       "    <div class=\"colab-df-container\">\n",
       "      <div>\n",
       "<style scoped>\n",
       "    .dataframe tbody tr th:only-of-type {\n",
       "        vertical-align: middle;\n",
       "    }\n",
       "\n",
       "    .dataframe tbody tr th {\n",
       "        vertical-align: top;\n",
       "    }\n",
       "\n",
       "    .dataframe thead th {\n",
       "        text-align: right;\n",
       "    }\n",
       "</style>\n",
       "<table border=\"1\" class=\"dataframe\">\n",
       "  <thead>\n",
       "    <tr style=\"text-align: right;\">\n",
       "      <th></th>\n",
       "      <th>summarised_sentences</th>\n",
       "      <th>Label</th>\n",
       "    </tr>\n",
       "  </thead>\n",
       "  <tbody>\n",
       "    <tr>\n",
       "      <th>0</th>\n",
       "      <td>['i note you have removed the speedy deletion ...</td>\n",
       "      <td>0</td>\n",
       "    </tr>\n",
       "    <tr>\n",
       "      <th>1</th>\n",
       "      <td>['sailor moon musicals i tried to add the clar...</td>\n",
       "      <td>0</td>\n",
       "    </tr>\n",
       "    <tr>\n",
       "      <th>2</th>\n",
       "      <td>['that was my point', 'i wanted to rewrite the...</td>\n",
       "      <td>0</td>\n",
       "    </tr>\n",
       "    <tr>\n",
       "      <th>3</th>\n",
       "      <td>['channel 4 documentary   nice work prioryman'...</td>\n",
       "      <td>0</td>\n",
       "    </tr>\n",
       "    <tr>\n",
       "      <th>4</th>\n",
       "      <td>['is this species named after sir david attenb...</td>\n",
       "      <td>0</td>\n",
       "    </tr>\n",
       "    <tr>\n",
       "      <th>...</th>\n",
       "      <td>...</td>\n",
       "      <td>...</td>\n",
       "    </tr>\n",
       "    <tr>\n",
       "      <th>2005</th>\n",
       "      <td>['series scrapped on 4th july', 'on a few ppl ...</td>\n",
       "      <td>2</td>\n",
       "    </tr>\n",
       "    <tr>\n",
       "      <th>2006</th>\n",
       "      <td>['actually she has an economics degree']</td>\n",
       "      <td>2</td>\n",
       "    </tr>\n",
       "    <tr>\n",
       "      <th>2007</th>\n",
       "      <td>['seriously i looked at your contributions the...</td>\n",
       "      <td>2</td>\n",
       "    </tr>\n",
       "    <tr>\n",
       "      <th>2008</th>\n",
       "      <td>['i love to eat rectal yoghurt']</td>\n",
       "      <td>2</td>\n",
       "    </tr>\n",
       "    <tr>\n",
       "      <th>2009</th>\n",
       "      <td>['dude i am trying to make a joke for my frien...</td>\n",
       "      <td>2</td>\n",
       "    </tr>\n",
       "  </tbody>\n",
       "</table>\n",
       "<p>2010 rows × 2 columns</p>\n",
       "</div>\n",
       "      <button class=\"colab-df-convert\" onclick=\"convertToInteractive('df-6476a731-1f91-4fff-ae6d-e3f5590c500c')\"\n",
       "              title=\"Convert this dataframe to an interactive table.\"\n",
       "              style=\"display:none;\">\n",
       "        \n",
       "  <svg xmlns=\"http://www.w3.org/2000/svg\" height=\"24px\"viewBox=\"0 0 24 24\"\n",
       "       width=\"24px\">\n",
       "    <path d=\"M0 0h24v24H0V0z\" fill=\"none\"/>\n",
       "    <path d=\"M18.56 5.44l.94 2.06.94-2.06 2.06-.94-2.06-.94-.94-2.06-.94 2.06-2.06.94zm-11 1L8.5 8.5l.94-2.06 2.06-.94-2.06-.94L8.5 2.5l-.94 2.06-2.06.94zm10 10l.94 2.06.94-2.06 2.06-.94-2.06-.94-.94-2.06-.94 2.06-2.06.94z\"/><path d=\"M17.41 7.96l-1.37-1.37c-.4-.4-.92-.59-1.43-.59-.52 0-1.04.2-1.43.59L10.3 9.45l-7.72 7.72c-.78.78-.78 2.05 0 2.83L4 21.41c.39.39.9.59 1.41.59.51 0 1.02-.2 1.41-.59l7.78-7.78 2.81-2.81c.8-.78.8-2.07 0-2.86zM5.41 20L4 18.59l7.72-7.72 1.47 1.35L5.41 20z\"/>\n",
       "  </svg>\n",
       "      </button>\n",
       "      \n",
       "  <style>\n",
       "    .colab-df-container {\n",
       "      display:flex;\n",
       "      flex-wrap:wrap;\n",
       "      gap: 12px;\n",
       "    }\n",
       "\n",
       "    .colab-df-convert {\n",
       "      background-color: #E8F0FE;\n",
       "      border: none;\n",
       "      border-radius: 50%;\n",
       "      cursor: pointer;\n",
       "      display: none;\n",
       "      fill: #1967D2;\n",
       "      height: 32px;\n",
       "      padding: 0 0 0 0;\n",
       "      width: 32px;\n",
       "    }\n",
       "\n",
       "    .colab-df-convert:hover {\n",
       "      background-color: #E2EBFA;\n",
       "      box-shadow: 0px 1px 2px rgba(60, 64, 67, 0.3), 0px 1px 3px 1px rgba(60, 64, 67, 0.15);\n",
       "      fill: #174EA6;\n",
       "    }\n",
       "\n",
       "    [theme=dark] .colab-df-convert {\n",
       "      background-color: #3B4455;\n",
       "      fill: #D2E3FC;\n",
       "    }\n",
       "\n",
       "    [theme=dark] .colab-df-convert:hover {\n",
       "      background-color: #434B5C;\n",
       "      box-shadow: 0px 1px 3px 1px rgba(0, 0, 0, 0.15);\n",
       "      filter: drop-shadow(0px 1px 2px rgba(0, 0, 0, 0.3));\n",
       "      fill: #FFFFFF;\n",
       "    }\n",
       "  </style>\n",
       "\n",
       "      <script>\n",
       "        const buttonEl =\n",
       "          document.querySelector('#df-6476a731-1f91-4fff-ae6d-e3f5590c500c button.colab-df-convert');\n",
       "        buttonEl.style.display =\n",
       "          google.colab.kernel.accessAllowed ? 'block' : 'none';\n",
       "\n",
       "        async function convertToInteractive(key) {\n",
       "          const element = document.querySelector('#df-6476a731-1f91-4fff-ae6d-e3f5590c500c');\n",
       "          const dataTable =\n",
       "            await google.colab.kernel.invokeFunction('convertToInteractive',\n",
       "                                                     [key], {});\n",
       "          if (!dataTable) return;\n",
       "\n",
       "          const docLinkHtml = 'Like what you see? Visit the ' +\n",
       "            '<a target=\"_blank\" href=https://colab.research.google.com/notebooks/data_table.ipynb>data table notebook</a>'\n",
       "            + ' to learn more about interactive tables.';\n",
       "          element.innerHTML = '';\n",
       "          dataTable['output_type'] = 'display_data';\n",
       "          await google.colab.output.renderOutput(dataTable, element);\n",
       "          const docLink = document.createElement('div');\n",
       "          docLink.innerHTML = docLinkHtml;\n",
       "          element.appendChild(docLink);\n",
       "        }\n",
       "      </script>\n",
       "    </div>\n",
       "  </div>\n",
       "  "
      ],
      "text/plain": [
       "                                   summarised_sentences  Label\n",
       "0     ['i note you have removed the speedy deletion ...      0\n",
       "1     ['sailor moon musicals i tried to add the clar...      0\n",
       "2     ['that was my point', 'i wanted to rewrite the...      0\n",
       "3     ['channel 4 documentary   nice work prioryman'...      0\n",
       "4     ['is this species named after sir david attenb...      0\n",
       "...                                                 ...    ...\n",
       "2005  ['series scrapped on 4th july', 'on a few ppl ...      2\n",
       "2006           ['actually she has an economics degree']      2\n",
       "2007  ['seriously i looked at your contributions the...      2\n",
       "2008                   ['i love to eat rectal yoghurt']      2\n",
       "2009  ['dude i am trying to make a joke for my frien...      2\n",
       "\n",
       "[2010 rows x 2 columns]"
      ]
     },
     "execution_count": 8,
     "metadata": {},
     "output_type": "execute_result"
    }
   ],
   "source": [
    "df_build = use_df.copy()\n",
    "df_build"
   ]
  },
  {
   "cell_type": "code",
   "execution_count": null,
   "metadata": {
    "id": "rz8EfMk6Bd2D"
   },
   "outputs": [],
   "source": [
    "y = df_build['Label']\n",
    "X = df_build[['summarised_sentences']]"
   ]
  },
  {
   "cell_type": "code",
   "execution_count": null,
   "metadata": {
    "id": "HLV_uqnKBmjL"
   },
   "outputs": [],
   "source": [
    "X_train, X_test, y_train, y_test = train_test_split(X, y, test_size=0.7, random_state=460)"
   ]
  },
  {
   "cell_type": "code",
   "execution_count": null,
   "metadata": {
    "colab": {
     "base_uri": "https://localhost:8080/"
    },
    "id": "TY6Wz8a_Br4s",
    "outputId": "dc22d718-c1a6-4c29-bd8f-d3a257adf561"
   },
   "outputs": [
    {
     "data": {
      "text/plain": [
       "Pipeline(steps=[('tfidf',\n",
       "                 ColumnTransformer(remainder='passthrough',\n",
       "                                   transformers=[('tfidf1', TfidfVectorizer(),\n",
       "                                                  'summarised_sentences')])),\n",
       "                ('classify', LogisticRegression(random_state=450))])"
      ]
     },
     "execution_count": 11,
     "metadata": {},
     "output_type": "execute_result"
    }
   ],
   "source": [
    "# initialise model and vectorizers\n",
    "SVM = svm.SVC(C=1.0, kernel='linear', degree=3, gamma='auto')\n",
    "NB = MultinomialNB()\n",
    "RF = RandomForestClassifier(n_estimators=200, max_depth=3, random_state=450)\n",
    "XGB = XGBClassifier()\n",
    "LGBM = lgb.LGBMClassifier()\n",
    "LR = LogisticRegression(random_state=450)\n",
    "vectorizer1 = TfidfVectorizer()\n",
    "\n",
    "\n",
    "# construct the column transfomer\n",
    "column_transformer = ColumnTransformer(\n",
    "    [('tfidf1', vectorizer1, 'summarised_sentences')],\n",
    "    remainder='passthrough')\n",
    "\n",
    "# fit the model\n",
    "SVM_pipe = Pipeline([\n",
    "                  ('tfidf', column_transformer),\n",
    "                  ('classify', SVM)\n",
    "                ])\n",
    "SVM_pipe.fit(X_train,y_train)\n",
    "\n",
    "# NB_pipe = Pipeline([\n",
    "#                   ('tfidf', column_transformer),\n",
    "#                   ('classify', NB)\n",
    "#                 ])\n",
    "# NB_pipe.fit(X_train,y_train)\n",
    "\n",
    "RF_pipe = Pipeline([\n",
    "                  ('tfidf', column_transformer),\n",
    "                  ('classify', RF)\n",
    "                ])\n",
    "RF_pipe.fit(X_train,y_train)\n",
    "\n",
    "XGB_pipe = Pipeline([\n",
    "                  ('tfidf', column_transformer),\n",
    "                  ('classify', XGB)\n",
    "                ])\n",
    "XGB_pipe.fit(X_train,y_train)\n",
    "\n",
    "LGBM_pipe = Pipeline([\n",
    "                  ('tfidf', column_transformer),\n",
    "                  ('classify', LGBM)\n",
    "                ])\n",
    "LGBM_pipe.fit(X_train,y_train)\n",
    "\n",
    "LR_pipe = Pipeline([\n",
    "                  ('tfidf', column_transformer),\n",
    "                  ('classify', LR)\n",
    "                ])\n",
    "LR_pipe.fit(X_train,y_train)"
   ]
  },
  {
   "cell_type": "code",
   "execution_count": null,
   "metadata": {
    "id": "7XgnQtrHCL5M"
   },
   "outputs": [],
   "source": [
    "NB_df = df_build[['summarised_sentences','Label']].copy()"
   ]
  },
  {
   "cell_type": "code",
   "execution_count": null,
   "metadata": {
    "colab": {
     "base_uri": "https://localhost:8080/",
     "height": 423
    },
    "id": "QaT_L0pCCbK1",
    "outputId": "e5a32ae8-5df2-442b-a08e-3f3e2735db8c"
   },
   "outputs": [
    {
     "data": {
      "text/html": [
       "\n",
       "  <div id=\"df-04eeb81e-af7e-4674-a3cd-588d3a861e8f\">\n",
       "    <div class=\"colab-df-container\">\n",
       "      <div>\n",
       "<style scoped>\n",
       "    .dataframe tbody tr th:only-of-type {\n",
       "        vertical-align: middle;\n",
       "    }\n",
       "\n",
       "    .dataframe tbody tr th {\n",
       "        vertical-align: top;\n",
       "    }\n",
       "\n",
       "    .dataframe thead th {\n",
       "        text-align: right;\n",
       "    }\n",
       "</style>\n",
       "<table border=\"1\" class=\"dataframe\">\n",
       "  <thead>\n",
       "    <tr style=\"text-align: right;\">\n",
       "      <th></th>\n",
       "      <th>summarised_sentences</th>\n",
       "      <th>Label</th>\n",
       "    </tr>\n",
       "  </thead>\n",
       "  <tbody>\n",
       "    <tr>\n",
       "      <th>0</th>\n",
       "      <td>['i note you have removed the speedy deletion ...</td>\n",
       "      <td>0</td>\n",
       "    </tr>\n",
       "    <tr>\n",
       "      <th>1</th>\n",
       "      <td>['sailor moon musicals i tried to add the clar...</td>\n",
       "      <td>0</td>\n",
       "    </tr>\n",
       "    <tr>\n",
       "      <th>2</th>\n",
       "      <td>['that was my point', 'i wanted to rewrite the...</td>\n",
       "      <td>0</td>\n",
       "    </tr>\n",
       "    <tr>\n",
       "      <th>3</th>\n",
       "      <td>['channel 4 documentary   nice work prioryman'...</td>\n",
       "      <td>0</td>\n",
       "    </tr>\n",
       "    <tr>\n",
       "      <th>4</th>\n",
       "      <td>['is this species named after sir david attenb...</td>\n",
       "      <td>0</td>\n",
       "    </tr>\n",
       "    <tr>\n",
       "      <th>...</th>\n",
       "      <td>...</td>\n",
       "      <td>...</td>\n",
       "    </tr>\n",
       "    <tr>\n",
       "      <th>2005</th>\n",
       "      <td>['series scrapped on 4th july', 'on a few ppl ...</td>\n",
       "      <td>2</td>\n",
       "    </tr>\n",
       "    <tr>\n",
       "      <th>2006</th>\n",
       "      <td>['actually she has an economics degree']</td>\n",
       "      <td>2</td>\n",
       "    </tr>\n",
       "    <tr>\n",
       "      <th>2007</th>\n",
       "      <td>['seriously i looked at your contributions the...</td>\n",
       "      <td>2</td>\n",
       "    </tr>\n",
       "    <tr>\n",
       "      <th>2008</th>\n",
       "      <td>['i love to eat rectal yoghurt']</td>\n",
       "      <td>2</td>\n",
       "    </tr>\n",
       "    <tr>\n",
       "      <th>2009</th>\n",
       "      <td>['dude i am trying to make a joke for my frien...</td>\n",
       "      <td>2</td>\n",
       "    </tr>\n",
       "  </tbody>\n",
       "</table>\n",
       "<p>2010 rows × 2 columns</p>\n",
       "</div>\n",
       "      <button class=\"colab-df-convert\" onclick=\"convertToInteractive('df-04eeb81e-af7e-4674-a3cd-588d3a861e8f')\"\n",
       "              title=\"Convert this dataframe to an interactive table.\"\n",
       "              style=\"display:none;\">\n",
       "        \n",
       "  <svg xmlns=\"http://www.w3.org/2000/svg\" height=\"24px\"viewBox=\"0 0 24 24\"\n",
       "       width=\"24px\">\n",
       "    <path d=\"M0 0h24v24H0V0z\" fill=\"none\"/>\n",
       "    <path d=\"M18.56 5.44l.94 2.06.94-2.06 2.06-.94-2.06-.94-.94-2.06-.94 2.06-2.06.94zm-11 1L8.5 8.5l.94-2.06 2.06-.94-2.06-.94L8.5 2.5l-.94 2.06-2.06.94zm10 10l.94 2.06.94-2.06 2.06-.94-2.06-.94-.94-2.06-.94 2.06-2.06.94z\"/><path d=\"M17.41 7.96l-1.37-1.37c-.4-.4-.92-.59-1.43-.59-.52 0-1.04.2-1.43.59L10.3 9.45l-7.72 7.72c-.78.78-.78 2.05 0 2.83L4 21.41c.39.39.9.59 1.41.59.51 0 1.02-.2 1.41-.59l7.78-7.78 2.81-2.81c.8-.78.8-2.07 0-2.86zM5.41 20L4 18.59l7.72-7.72 1.47 1.35L5.41 20z\"/>\n",
       "  </svg>\n",
       "      </button>\n",
       "      \n",
       "  <style>\n",
       "    .colab-df-container {\n",
       "      display:flex;\n",
       "      flex-wrap:wrap;\n",
       "      gap: 12px;\n",
       "    }\n",
       "\n",
       "    .colab-df-convert {\n",
       "      background-color: #E8F0FE;\n",
       "      border: none;\n",
       "      border-radius: 50%;\n",
       "      cursor: pointer;\n",
       "      display: none;\n",
       "      fill: #1967D2;\n",
       "      height: 32px;\n",
       "      padding: 0 0 0 0;\n",
       "      width: 32px;\n",
       "    }\n",
       "\n",
       "    .colab-df-convert:hover {\n",
       "      background-color: #E2EBFA;\n",
       "      box-shadow: 0px 1px 2px rgba(60, 64, 67, 0.3), 0px 1px 3px 1px rgba(60, 64, 67, 0.15);\n",
       "      fill: #174EA6;\n",
       "    }\n",
       "\n",
       "    [theme=dark] .colab-df-convert {\n",
       "      background-color: #3B4455;\n",
       "      fill: #D2E3FC;\n",
       "    }\n",
       "\n",
       "    [theme=dark] .colab-df-convert:hover {\n",
       "      background-color: #434B5C;\n",
       "      box-shadow: 0px 1px 3px 1px rgba(0, 0, 0, 0.15);\n",
       "      filter: drop-shadow(0px 1px 2px rgba(0, 0, 0, 0.3));\n",
       "      fill: #FFFFFF;\n",
       "    }\n",
       "  </style>\n",
       "\n",
       "      <script>\n",
       "        const buttonEl =\n",
       "          document.querySelector('#df-04eeb81e-af7e-4674-a3cd-588d3a861e8f button.colab-df-convert');\n",
       "        buttonEl.style.display =\n",
       "          google.colab.kernel.accessAllowed ? 'block' : 'none';\n",
       "\n",
       "        async function convertToInteractive(key) {\n",
       "          const element = document.querySelector('#df-04eeb81e-af7e-4674-a3cd-588d3a861e8f');\n",
       "          const dataTable =\n",
       "            await google.colab.kernel.invokeFunction('convertToInteractive',\n",
       "                                                     [key], {});\n",
       "          if (!dataTable) return;\n",
       "\n",
       "          const docLinkHtml = 'Like what you see? Visit the ' +\n",
       "            '<a target=\"_blank\" href=https://colab.research.google.com/notebooks/data_table.ipynb>data table notebook</a>'\n",
       "            + ' to learn more about interactive tables.';\n",
       "          element.innerHTML = '';\n",
       "          dataTable['output_type'] = 'display_data';\n",
       "          await google.colab.output.renderOutput(dataTable, element);\n",
       "          const docLink = document.createElement('div');\n",
       "          docLink.innerHTML = docLinkHtml;\n",
       "          element.appendChild(docLink);\n",
       "        }\n",
       "      </script>\n",
       "    </div>\n",
       "  </div>\n",
       "  "
      ],
      "text/plain": [
       "                                   summarised_sentences  Label\n",
       "0     ['i note you have removed the speedy deletion ...      0\n",
       "1     ['sailor moon musicals i tried to add the clar...      0\n",
       "2     ['that was my point', 'i wanted to rewrite the...      0\n",
       "3     ['channel 4 documentary   nice work prioryman'...      0\n",
       "4     ['is this species named after sir david attenb...      0\n",
       "...                                                 ...    ...\n",
       "2005  ['series scrapped on 4th july', 'on a few ppl ...      2\n",
       "2006           ['actually she has an economics degree']      2\n",
       "2007  ['seriously i looked at your contributions the...      2\n",
       "2008                   ['i love to eat rectal yoghurt']      2\n",
       "2009  ['dude i am trying to make a joke for my frien...      2\n",
       "\n",
       "[2010 rows x 2 columns]"
      ]
     },
     "execution_count": 13,
     "metadata": {},
     "output_type": "execute_result"
    }
   ],
   "source": [
    "NB_df"
   ]
  },
  {
   "cell_type": "code",
   "execution_count": null,
   "metadata": {
    "id": "mkIp0fAiCgin"
   },
   "outputs": [],
   "source": [
    "y_NB = NB_df['Label']\n",
    "X_NB = NB_df[['summarised_sentences']]"
   ]
  },
  {
   "cell_type": "code",
   "execution_count": null,
   "metadata": {
    "id": "ftd3bsLWCbQI"
   },
   "outputs": [],
   "source": [
    "X_NB_train, X_NB_test, y_NB_train, y_NB_test = train_test_split(X_NB, y_NB, test_size=0.7, random_state=460)"
   ]
  },
  {
   "cell_type": "code",
   "execution_count": null,
   "metadata": {
    "colab": {
     "base_uri": "https://localhost:8080/"
    },
    "id": "Z2j3YfDoCpnM",
    "outputId": "0a7b2c71-6274-4d8e-e2a4-f8682d4d0fb3"
   },
   "outputs": [
    {
     "data": {
      "text/plain": [
       "Pipeline(steps=[('tfidf',\n",
       "                 ColumnTransformer(remainder='passthrough',\n",
       "                                   transformers=[('tfidf1', TfidfVectorizer(),\n",
       "                                                  'summarised_sentences')])),\n",
       "                ('classify', MultinomialNB())])"
      ]
     },
     "execution_count": 16,
     "metadata": {},
     "output_type": "execute_result"
    }
   ],
   "source": [
    "NB_pipe = Pipeline([\n",
    "                  ('tfidf', column_transformer),\n",
    "                  ('classify', NB)\n",
    "                ])\n",
    "NB_pipe.fit(X_NB_train,y_NB_train)"
   ]
  },
  {
   "cell_type": "code",
   "execution_count": null,
   "metadata": {
    "colab": {
     "base_uri": "https://localhost:8080/"
    },
    "id": "fB6OXCWYCuEc",
    "outputId": "4923a576-9339-4bcb-8dcf-f86887c03ae7"
   },
   "outputs": [
    {
     "name": "stdout",
     "output_type": "stream",
     "text": [
      "Accuracy: 60.83866382373845\n",
      "Classification report : \n",
      "               precision    recall  f1-score   support\n",
      "\n",
      "           0       0.66      0.74      0.70       475\n",
      "           1       0.54      0.62      0.58       463\n",
      "           2       0.64      0.46      0.53       469\n",
      "\n",
      "    accuracy                           0.61      1407\n",
      "   macro avg       0.61      0.61      0.60      1407\n",
      "weighted avg       0.61      0.61      0.60      1407\n",
      "\n"
     ]
    }
   ],
   "source": [
    "predictions_NB = NB_pipe.predict(X_NB_test)\n",
    "nb_accuracy = accuracy_score(predictions_NB, y_test)*100\n",
    "\n",
    "NB_matrix = classification_report(y_NB_test,predictions_NB,labels=[0,1,2])\n",
    "print(\"Accuracy:\", nb_accuracy)\n",
    "print('Classification report : \\n',NB_matrix)"
   ]
  },
  {
   "cell_type": "code",
   "execution_count": null,
   "metadata": {
    "colab": {
     "base_uri": "https://localhost:8080/"
    },
    "id": "6bcbOA66DTQU",
    "outputId": "eb06b8d4-03fa-4856-a495-63e22cd21eaa"
   },
   "outputs": [
    {
     "name": "stdout",
     "output_type": "stream",
     "text": [
      "Accuracy: 60.3411513859275\n",
      "Classification report : \n",
      "               precision    recall  f1-score   support\n",
      "\n",
      "           0       0.68      0.67      0.68       475\n",
      "           1       0.57      0.56      0.57       463\n",
      "           2       0.56      0.58      0.57       469\n",
      "\n",
      "    accuracy                           0.60      1407\n",
      "   macro avg       0.60      0.60      0.60      1407\n",
      "weighted avg       0.60      0.60      0.60      1407\n",
      "\n"
     ]
    }
   ],
   "source": [
    "predictions_SVM = SVM_pipe.predict(X_NB_test)\n",
    "svm_accuracy = accuracy_score(predictions_SVM, y_NB_test)*100\n",
    "\n",
    "SVM_matrix = classification_report(y_NB_test,predictions_SVM,labels=[0,1,2])\n",
    "print(\"Accuracy:\", svm_accuracy)\n",
    "print('Classification report : \\n',SVM_matrix)"
   ]
  },
  {
   "cell_type": "code",
   "execution_count": null,
   "metadata": {
    "colab": {
     "base_uri": "https://localhost:8080/"
    },
    "id": "gguEe_wSDRAN",
    "outputId": "a82a4b2d-c9e3-4fe0-e618-85fd728bb696"
   },
   "outputs": [
    {
     "name": "stdout",
     "output_type": "stream",
     "text": [
      "Accuracy: 54.58422174840085\n",
      "Classification report : \n",
      "               precision    recall  f1-score   support\n",
      "\n",
      "           0       0.62      0.58      0.60       475\n",
      "           1       0.48      0.51      0.50       463\n",
      "           2       0.55      0.54      0.54       469\n",
      "\n",
      "    accuracy                           0.55      1407\n",
      "   macro avg       0.55      0.55      0.55      1407\n",
      "weighted avg       0.55      0.55      0.55      1407\n",
      "\n"
     ]
    }
   ],
   "source": [
    "predictions_LGBM = LGBM_pipe.predict(X_NB_test)\n",
    "\n",
    "lgbm_accuracy = accuracy_score(predictions_LGBM, y_NB_test)*100\n",
    "LGBM_matrix = classification_report(y_NB_test,predictions_LGBM)\n",
    "print(\"Accuracy:\", lgbm_accuracy)\n",
    "print('Classification report : \\n',LGBM_matrix)"
   ]
  },
  {
   "cell_type": "code",
   "execution_count": null,
   "metadata": {
    "colab": {
     "base_uri": "https://localhost:8080/"
    },
    "id": "3nbNNZjXE9z-",
    "outputId": "96965912-1f2c-4e6c-d437-2efc0a38da51"
   },
   "outputs": [
    {
     "name": "stdout",
     "output_type": "stream",
     "text": [
      "Accuracy: 57.711442786069654\n",
      "Classification report : \n",
      "               precision    recall  f1-score   support\n",
      "\n",
      "           0       0.69      0.59      0.63       475\n",
      "           1       0.56      0.49      0.52       463\n",
      "           2       0.52      0.65      0.58       469\n",
      "\n",
      "    accuracy                           0.58      1407\n",
      "   macro avg       0.59      0.58      0.58      1407\n",
      "weighted avg       0.59      0.58      0.58      1407\n",
      "\n"
     ]
    }
   ],
   "source": [
    "predictions_XGB = XGB_pipe.predict(X_NB_test)\n",
    "\n",
    "xgb_accuracy = accuracy_score(predictions_XGB, y_NB_test)*100\n",
    "XGB_matrix = classification_report(y_NB_test,predictions_XGB,labels=[0,1,2])\n",
    "print(\"Accuracy:\", xgb_accuracy)\n",
    "print('Classification report : \\n',XGB_matrix)"
   ]
  },
  {
   "cell_type": "code",
   "execution_count": null,
   "metadata": {
    "colab": {
     "base_uri": "https://localhost:8080/"
    },
    "id": "JFpaJRSrFSfT",
    "outputId": "706726e0-5869-47f2-e590-bde0f773b732"
   },
   "outputs": [
    {
     "name": "stdout",
     "output_type": "stream",
     "text": [
      "Accuracy: 59.772565742715\n",
      "Classification report : \n",
      "               precision    recall  f1-score   support\n",
      "\n",
      "           0       0.66      0.67      0.67       475\n",
      "           1       0.56      0.54      0.55       463\n",
      "           2       0.57      0.58      0.57       469\n",
      "\n",
      "    accuracy                           0.60      1407\n",
      "   macro avg       0.60      0.60      0.60      1407\n",
      "weighted avg       0.60      0.60      0.60      1407\n",
      "\n"
     ]
    }
   ],
   "source": [
    "predictions_LR = LR_pipe.predict(X_NB_test)\n",
    "\n",
    "lr_accuracy = accuracy_score(predictions_LR, y_NB_test)*100\n",
    "LR_matrix = classification_report(y_NB_test,predictions_LR)\n",
    "print(\"Accuracy:\", lr_accuracy)\n",
    "print('Classification report : \\n',LR_matrix)"
   ]
  }
 ],
 "metadata": {
  "colab": {
   "collapsed_sections": [],
   "name": "jas.ipynb",
   "provenance": [],
   "toc_visible": true
  },
  "kernelspec": {
   "display_name": "Python 3",
   "language": "python",
   "name": "python3"
  },
  "language_info": {
   "codemirror_mode": {
    "name": "ipython",
    "version": 3
   },
   "file_extension": ".py",
   "mimetype": "text/x-python",
   "name": "python",
   "nbconvert_exporter": "python",
   "pygments_lexer": "ipython3",
   "version": "3.8.8"
  }
 },
 "nbformat": 4,
 "nbformat_minor": 1
}
