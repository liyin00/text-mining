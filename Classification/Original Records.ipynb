{
 "cells": [
  {
   "cell_type": "code",
   "execution_count": null,
   "metadata": {
    "colab": {
     "base_uri": "https://localhost:8080/"
    },
    "id": "qKkgo5MFVZt1",
    "outputId": "188c57bc-2a08-475e-a4da-29f23390c2a6"
   },
   "outputs": [
    {
     "name": "stdout",
     "output_type": "stream",
     "text": [
      "[nltk_data] Downloading package punkt to /root/nltk_data...\n",
      "[nltk_data]   Unzipping tokenizers/punkt.zip.\n",
      "[nltk_data] Downloading package stopwords to /root/nltk_data...\n",
      "[nltk_data]   Unzipping corpora/stopwords.zip.\n"
     ]
    },
    {
     "data": {
      "text/plain": [
       "True"
      ]
     },
     "execution_count": 2,
     "metadata": {},
     "output_type": "execute_result"
    }
   ],
   "source": [
    "import pandas as pd\n",
    "import numpy as np\n",
    "import nltk\n",
    "from sklearn.model_selection import train_test_split\n",
    "from sklearn.metrics import accuracy_score\n",
    "from sklearn.metrics import classification_report\n",
    "from sklearn.svm import LinearSVC\n",
    "from sklearn.naive_bayes import MultinomialNB\n",
    "from sklearn.ensemble import RandomForestClassifier \n",
    "from sklearn.linear_model import LogisticRegression\n",
    "import lightgbm as lgb\n",
    "from lightgbm import LGBMClassifier\n",
    "from sklearn import metrics\n",
    "from sklearn.pipeline import Pipeline\n",
    "from sklearn.compose import ColumnTransformer\n",
    "from sklearn.feature_extraction.text import CountVectorizer\n",
    "from sklearn.feature_extraction.text import TfidfTransformer\n",
    "from sklearn.feature_extraction.text import TfidfVectorizer\n",
    "from xgboost import XGBClassifier\n",
    "from sklearn import svm\n",
    "import matplotlib.pyplot as plt\n",
    "\n",
    "\n",
    "\n",
    "nltk.download('punkt')\n",
    "nltk.download('stopwords')"
   ]
  },
  {
   "cell_type": "code",
   "execution_count": null,
   "metadata": {
    "id": "p0AbWCRGYqzo"
   },
   "outputs": [],
   "source": [
    "df = pd.read_csv('summarised_weighted_discourse.csv')"
   ]
  },
  {
   "cell_type": "markdown",
   "metadata": {
    "id": "b1Enh_qLLP9D"
   },
   "source": [
    "# Classifier Input: Original Records"
   ]
  },
  {
   "cell_type": "code",
   "execution_count": null,
   "metadata": {
    "colab": {
     "base_uri": "https://localhost:8080/"
    },
    "id": "fiWwcrKfLU7I",
    "outputId": "270e6fb9-7117-4eb7-f842-a282fcf1d9ff"
   },
   "outputs": [
    {
     "name": "stdout",
     "output_type": "stream",
     "text": [
      "<class 'pandas.core.frame.DataFrame'>\n",
      "RangeIndex: 2010 entries, 0 to 2009\n",
      "Data columns (total 2 columns):\n",
      " #   Column       Non-Null Count  Dtype \n",
      "---  ------       --------------  ----- \n",
      " 0   clean_lower  2010 non-null   object\n",
      " 1   Label        2010 non-null   int64 \n",
      "dtypes: int64(1), object(1)\n",
      "memory usage: 31.5+ KB\n"
     ]
    }
   ],
   "source": [
    "use_df = df[['clean_lower','Label']].copy()\n",
    "use_df\n",
    "use_df.info()"
   ]
  },
  {
   "cell_type": "code",
   "execution_count": null,
   "metadata": {
    "colab": {
     "base_uri": "https://localhost:8080/",
     "height": 423
    },
    "id": "mW0KuHovLU7J",
    "outputId": "daac5852-ca4f-43a4-8c09-8144ca4da238"
   },
   "outputs": [
    {
     "data": {
      "text/html": [
       "\n",
       "  <div id=\"df-11e98e35-31df-4a26-9316-b446fa94fab9\">\n",
       "    <div class=\"colab-df-container\">\n",
       "      <div>\n",
       "<style scoped>\n",
       "    .dataframe tbody tr th:only-of-type {\n",
       "        vertical-align: middle;\n",
       "    }\n",
       "\n",
       "    .dataframe tbody tr th {\n",
       "        vertical-align: top;\n",
       "    }\n",
       "\n",
       "    .dataframe thead th {\n",
       "        text-align: right;\n",
       "    }\n",
       "</style>\n",
       "<table border=\"1\" class=\"dataframe\">\n",
       "  <thead>\n",
       "    <tr style=\"text-align: right;\">\n",
       "      <th></th>\n",
       "      <th>clean_lower</th>\n",
       "      <th>Label</th>\n",
       "    </tr>\n",
       "  </thead>\n",
       "  <tbody>\n",
       "    <tr>\n",
       "      <th>0</th>\n",
       "      <td>clandestine industries  hi  i note you have ...</td>\n",
       "      <td>0</td>\n",
       "    </tr>\n",
       "    <tr>\n",
       "      <th>1</th>\n",
       "      <td>sailor moon musicals i tried to add the clari...</td>\n",
       "      <td>0</td>\n",
       "    </tr>\n",
       "    <tr>\n",
       "      <th>2</th>\n",
       "      <td>that was my point i wanted to rewrite the enti...</td>\n",
       "      <td>0</td>\n",
       "    </tr>\n",
       "    <tr>\n",
       "      <th>3</th>\n",
       "      <td>channel 4 documentary  nice work prioryman i...</td>\n",
       "      <td>0</td>\n",
       "    </tr>\n",
       "    <tr>\n",
       "      <th>4</th>\n",
       "      <td>is this species named after sir david attenbor...</td>\n",
       "      <td>0</td>\n",
       "    </tr>\n",
       "    <tr>\n",
       "      <th>...</th>\n",
       "      <td>...</td>\n",
       "      <td>...</td>\n",
       "    </tr>\n",
       "    <tr>\n",
       "      <th>2005</th>\n",
       "      <td>series scrapped on 4th july on a few ppl hav l...</td>\n",
       "      <td>2</td>\n",
       "    </tr>\n",
       "    <tr>\n",
       "      <th>2006</th>\n",
       "      <td>no actually she has an economics degree</td>\n",
       "      <td>2</td>\n",
       "    </tr>\n",
       "    <tr>\n",
       "      <th>2007</th>\n",
       "      <td>liar liar pants on fire seriously i looked at ...</td>\n",
       "      <td>2</td>\n",
       "    </tr>\n",
       "    <tr>\n",
       "      <th>2008</th>\n",
       "      <td>i love to eat rectal yoghurt</td>\n",
       "      <td>2</td>\n",
       "    </tr>\n",
       "    <tr>\n",
       "      <th>2009</th>\n",
       "      <td>dude i am trying to make a joke for my friend...</td>\n",
       "      <td>2</td>\n",
       "    </tr>\n",
       "  </tbody>\n",
       "</table>\n",
       "<p>2010 rows × 2 columns</p>\n",
       "</div>\n",
       "      <button class=\"colab-df-convert\" onclick=\"convertToInteractive('df-11e98e35-31df-4a26-9316-b446fa94fab9')\"\n",
       "              title=\"Convert this dataframe to an interactive table.\"\n",
       "              style=\"display:none;\">\n",
       "        \n",
       "  <svg xmlns=\"http://www.w3.org/2000/svg\" height=\"24px\"viewBox=\"0 0 24 24\"\n",
       "       width=\"24px\">\n",
       "    <path d=\"M0 0h24v24H0V0z\" fill=\"none\"/>\n",
       "    <path d=\"M18.56 5.44l.94 2.06.94-2.06 2.06-.94-2.06-.94-.94-2.06-.94 2.06-2.06.94zm-11 1L8.5 8.5l.94-2.06 2.06-.94-2.06-.94L8.5 2.5l-.94 2.06-2.06.94zm10 10l.94 2.06.94-2.06 2.06-.94-2.06-.94-.94-2.06-.94 2.06-2.06.94z\"/><path d=\"M17.41 7.96l-1.37-1.37c-.4-.4-.92-.59-1.43-.59-.52 0-1.04.2-1.43.59L10.3 9.45l-7.72 7.72c-.78.78-.78 2.05 0 2.83L4 21.41c.39.39.9.59 1.41.59.51 0 1.02-.2 1.41-.59l7.78-7.78 2.81-2.81c.8-.78.8-2.07 0-2.86zM5.41 20L4 18.59l7.72-7.72 1.47 1.35L5.41 20z\"/>\n",
       "  </svg>\n",
       "      </button>\n",
       "      \n",
       "  <style>\n",
       "    .colab-df-container {\n",
       "      display:flex;\n",
       "      flex-wrap:wrap;\n",
       "      gap: 12px;\n",
       "    }\n",
       "\n",
       "    .colab-df-convert {\n",
       "      background-color: #E8F0FE;\n",
       "      border: none;\n",
       "      border-radius: 50%;\n",
       "      cursor: pointer;\n",
       "      display: none;\n",
       "      fill: #1967D2;\n",
       "      height: 32px;\n",
       "      padding: 0 0 0 0;\n",
       "      width: 32px;\n",
       "    }\n",
       "\n",
       "    .colab-df-convert:hover {\n",
       "      background-color: #E2EBFA;\n",
       "      box-shadow: 0px 1px 2px rgba(60, 64, 67, 0.3), 0px 1px 3px 1px rgba(60, 64, 67, 0.15);\n",
       "      fill: #174EA6;\n",
       "    }\n",
       "\n",
       "    [theme=dark] .colab-df-convert {\n",
       "      background-color: #3B4455;\n",
       "      fill: #D2E3FC;\n",
       "    }\n",
       "\n",
       "    [theme=dark] .colab-df-convert:hover {\n",
       "      background-color: #434B5C;\n",
       "      box-shadow: 0px 1px 3px 1px rgba(0, 0, 0, 0.15);\n",
       "      filter: drop-shadow(0px 1px 2px rgba(0, 0, 0, 0.3));\n",
       "      fill: #FFFFFF;\n",
       "    }\n",
       "  </style>\n",
       "\n",
       "      <script>\n",
       "        const buttonEl =\n",
       "          document.querySelector('#df-11e98e35-31df-4a26-9316-b446fa94fab9 button.colab-df-convert');\n",
       "        buttonEl.style.display =\n",
       "          google.colab.kernel.accessAllowed ? 'block' : 'none';\n",
       "\n",
       "        async function convertToInteractive(key) {\n",
       "          const element = document.querySelector('#df-11e98e35-31df-4a26-9316-b446fa94fab9');\n",
       "          const dataTable =\n",
       "            await google.colab.kernel.invokeFunction('convertToInteractive',\n",
       "                                                     [key], {});\n",
       "          if (!dataTable) return;\n",
       "\n",
       "          const docLinkHtml = 'Like what you see? Visit the ' +\n",
       "            '<a target=\"_blank\" href=https://colab.research.google.com/notebooks/data_table.ipynb>data table notebook</a>'\n",
       "            + ' to learn more about interactive tables.';\n",
       "          element.innerHTML = '';\n",
       "          dataTable['output_type'] = 'display_data';\n",
       "          await google.colab.output.renderOutput(dataTable, element);\n",
       "          const docLink = document.createElement('div');\n",
       "          docLink.innerHTML = docLinkHtml;\n",
       "          element.appendChild(docLink);\n",
       "        }\n",
       "      </script>\n",
       "    </div>\n",
       "  </div>\n",
       "  "
      ],
      "text/plain": [
       "                                            clean_lower  Label\n",
       "0       clandestine industries  hi  i note you have ...      0\n",
       "1      sailor moon musicals i tried to add the clari...      0\n",
       "2     that was my point i wanted to rewrite the enti...      0\n",
       "3       channel 4 documentary  nice work prioryman i...      0\n",
       "4     is this species named after sir david attenbor...      0\n",
       "...                                                 ...    ...\n",
       "2005  series scrapped on 4th july on a few ppl hav l...      2\n",
       "2006            no actually she has an economics degree      2\n",
       "2007  liar liar pants on fire seriously i looked at ...      2\n",
       "2008                       i love to eat rectal yoghurt      2\n",
       "2009   dude i am trying to make a joke for my friend...      2\n",
       "\n",
       "[2010 rows x 2 columns]"
      ]
     },
     "execution_count": 35,
     "metadata": {},
     "output_type": "execute_result"
    }
   ],
   "source": [
    "df_build = use_df.copy()\n",
    "df_build"
   ]
  },
  {
   "cell_type": "code",
   "execution_count": null,
   "metadata": {
    "id": "n0F33-s7LU7J"
   },
   "outputs": [],
   "source": [
    "y = df_build['Label']\n",
    "X = df_build[['clean_lower']]"
   ]
  },
  {
   "cell_type": "code",
   "execution_count": null,
   "metadata": {
    "id": "5YCyy3U-LU7J"
   },
   "outputs": [],
   "source": [
    "X_train, X_test, y_train, y_test = train_test_split(X, y, test_size=0.7, random_state=460)"
   ]
  },
  {
   "cell_type": "code",
   "execution_count": null,
   "metadata": {
    "colab": {
     "base_uri": "https://localhost:8080/"
    },
    "id": "ueYEp3L1LU7J",
    "outputId": "b803ce41-f0f9-4aac-9d18-d9e8ba6cf2f1"
   },
   "outputs": [
    {
     "data": {
      "text/plain": [
       "Pipeline(steps=[('tfidf',\n",
       "                 ColumnTransformer(remainder='passthrough',\n",
       "                                   transformers=[('tfidf1', TfidfVectorizer(),\n",
       "                                                  'clean_lower')])),\n",
       "                ('classify', LogisticRegression(random_state=450))])"
      ]
     },
     "execution_count": 39,
     "metadata": {},
     "output_type": "execute_result"
    }
   ],
   "source": [
    "# initialise model and vectorizers\n",
    "SVM = svm.SVC(C=1.0, kernel='linear', degree=3, gamma='auto')\n",
    "NB = MultinomialNB()\n",
    "RF = RandomForestClassifier(n_estimators=200, max_depth=3, random_state=450)\n",
    "XGB = XGBClassifier()\n",
    "LGBM = lgb.LGBMClassifier()\n",
    "LR = LogisticRegression(random_state=450)\n",
    "vectorizer1 = TfidfVectorizer()\n",
    "\n",
    "\n",
    "# construct the column transfomer\n",
    "column_transformer = ColumnTransformer(\n",
    "    [('tfidf1', vectorizer1, 'clean_lower')],\n",
    "    remainder='passthrough')\n",
    "\n",
    "# fit the model\n",
    "SVM_pipe = Pipeline([\n",
    "                  ('tfidf', column_transformer),\n",
    "                  ('classify', SVM)\n",
    "                ])\n",
    "SVM_pipe.fit(X_train,y_train)\n",
    "\n",
    "# NB_pipe = Pipeline([\n",
    "#                   ('tfidf', column_transformer),\n",
    "#                   ('classify', NB)\n",
    "#                 ])\n",
    "# NB_pipe.fit(X_train,y_train)\n",
    "\n",
    "RF_pipe = Pipeline([\n",
    "                  ('tfidf', column_transformer),\n",
    "                  ('classify', RF)\n",
    "                ])\n",
    "RF_pipe.fit(X_train,y_train)\n",
    "\n",
    "XGB_pipe = Pipeline([\n",
    "                  ('tfidf', column_transformer),\n",
    "                  ('classify', XGB)\n",
    "                ])\n",
    "XGB_pipe.fit(X_train,y_train)\n",
    "\n",
    "LGBM_pipe = Pipeline([\n",
    "                  ('tfidf', column_transformer),\n",
    "                  ('classify', LGBM)\n",
    "                ])\n",
    "LGBM_pipe.fit(X_train,y_train)\n",
    "\n",
    "LR_pipe = Pipeline([\n",
    "                  ('tfidf', column_transformer),\n",
    "                  ('classify', LR)\n",
    "                ])\n",
    "LR_pipe.fit(X_train,y_train)"
   ]
  },
  {
   "cell_type": "code",
   "execution_count": null,
   "metadata": {
    "id": "ZmlF7HmgLU7L"
   },
   "outputs": [],
   "source": [
    "NB_df = df_build[['clean_lower','Label']].copy()"
   ]
  },
  {
   "cell_type": "code",
   "execution_count": null,
   "metadata": {
    "colab": {
     "base_uri": "https://localhost:8080/",
     "height": 423
    },
    "id": "D_3q4nN5LU7N",
    "outputId": "a35a704b-819d-4fe8-c4f0-3e5b803e4cb0"
   },
   "outputs": [
    {
     "data": {
      "text/html": [
       "\n",
       "  <div id=\"df-4ed62e22-a4f7-40a3-af6b-7c59700c0d0f\">\n",
       "    <div class=\"colab-df-container\">\n",
       "      <div>\n",
       "<style scoped>\n",
       "    .dataframe tbody tr th:only-of-type {\n",
       "        vertical-align: middle;\n",
       "    }\n",
       "\n",
       "    .dataframe tbody tr th {\n",
       "        vertical-align: top;\n",
       "    }\n",
       "\n",
       "    .dataframe thead th {\n",
       "        text-align: right;\n",
       "    }\n",
       "</style>\n",
       "<table border=\"1\" class=\"dataframe\">\n",
       "  <thead>\n",
       "    <tr style=\"text-align: right;\">\n",
       "      <th></th>\n",
       "      <th>clean_lower</th>\n",
       "      <th>Label</th>\n",
       "    </tr>\n",
       "  </thead>\n",
       "  <tbody>\n",
       "    <tr>\n",
       "      <th>0</th>\n",
       "      <td>clandestine industries  hi  i note you have ...</td>\n",
       "      <td>0</td>\n",
       "    </tr>\n",
       "    <tr>\n",
       "      <th>1</th>\n",
       "      <td>sailor moon musicals i tried to add the clari...</td>\n",
       "      <td>0</td>\n",
       "    </tr>\n",
       "    <tr>\n",
       "      <th>2</th>\n",
       "      <td>that was my point i wanted to rewrite the enti...</td>\n",
       "      <td>0</td>\n",
       "    </tr>\n",
       "    <tr>\n",
       "      <th>3</th>\n",
       "      <td>channel 4 documentary  nice work prioryman i...</td>\n",
       "      <td>0</td>\n",
       "    </tr>\n",
       "    <tr>\n",
       "      <th>4</th>\n",
       "      <td>is this species named after sir david attenbor...</td>\n",
       "      <td>0</td>\n",
       "    </tr>\n",
       "    <tr>\n",
       "      <th>...</th>\n",
       "      <td>...</td>\n",
       "      <td>...</td>\n",
       "    </tr>\n",
       "    <tr>\n",
       "      <th>2005</th>\n",
       "      <td>series scrapped on 4th july on a few ppl hav l...</td>\n",
       "      <td>2</td>\n",
       "    </tr>\n",
       "    <tr>\n",
       "      <th>2006</th>\n",
       "      <td>no actually she has an economics degree</td>\n",
       "      <td>2</td>\n",
       "    </tr>\n",
       "    <tr>\n",
       "      <th>2007</th>\n",
       "      <td>liar liar pants on fire seriously i looked at ...</td>\n",
       "      <td>2</td>\n",
       "    </tr>\n",
       "    <tr>\n",
       "      <th>2008</th>\n",
       "      <td>i love to eat rectal yoghurt</td>\n",
       "      <td>2</td>\n",
       "    </tr>\n",
       "    <tr>\n",
       "      <th>2009</th>\n",
       "      <td>dude i am trying to make a joke for my friend...</td>\n",
       "      <td>2</td>\n",
       "    </tr>\n",
       "  </tbody>\n",
       "</table>\n",
       "<p>2010 rows × 2 columns</p>\n",
       "</div>\n",
       "      <button class=\"colab-df-convert\" onclick=\"convertToInteractive('df-4ed62e22-a4f7-40a3-af6b-7c59700c0d0f')\"\n",
       "              title=\"Convert this dataframe to an interactive table.\"\n",
       "              style=\"display:none;\">\n",
       "        \n",
       "  <svg xmlns=\"http://www.w3.org/2000/svg\" height=\"24px\"viewBox=\"0 0 24 24\"\n",
       "       width=\"24px\">\n",
       "    <path d=\"M0 0h24v24H0V0z\" fill=\"none\"/>\n",
       "    <path d=\"M18.56 5.44l.94 2.06.94-2.06 2.06-.94-2.06-.94-.94-2.06-.94 2.06-2.06.94zm-11 1L8.5 8.5l.94-2.06 2.06-.94-2.06-.94L8.5 2.5l-.94 2.06-2.06.94zm10 10l.94 2.06.94-2.06 2.06-.94-2.06-.94-.94-2.06-.94 2.06-2.06.94z\"/><path d=\"M17.41 7.96l-1.37-1.37c-.4-.4-.92-.59-1.43-.59-.52 0-1.04.2-1.43.59L10.3 9.45l-7.72 7.72c-.78.78-.78 2.05 0 2.83L4 21.41c.39.39.9.59 1.41.59.51 0 1.02-.2 1.41-.59l7.78-7.78 2.81-2.81c.8-.78.8-2.07 0-2.86zM5.41 20L4 18.59l7.72-7.72 1.47 1.35L5.41 20z\"/>\n",
       "  </svg>\n",
       "      </button>\n",
       "      \n",
       "  <style>\n",
       "    .colab-df-container {\n",
       "      display:flex;\n",
       "      flex-wrap:wrap;\n",
       "      gap: 12px;\n",
       "    }\n",
       "\n",
       "    .colab-df-convert {\n",
       "      background-color: #E8F0FE;\n",
       "      border: none;\n",
       "      border-radius: 50%;\n",
       "      cursor: pointer;\n",
       "      display: none;\n",
       "      fill: #1967D2;\n",
       "      height: 32px;\n",
       "      padding: 0 0 0 0;\n",
       "      width: 32px;\n",
       "    }\n",
       "\n",
       "    .colab-df-convert:hover {\n",
       "      background-color: #E2EBFA;\n",
       "      box-shadow: 0px 1px 2px rgba(60, 64, 67, 0.3), 0px 1px 3px 1px rgba(60, 64, 67, 0.15);\n",
       "      fill: #174EA6;\n",
       "    }\n",
       "\n",
       "    [theme=dark] .colab-df-convert {\n",
       "      background-color: #3B4455;\n",
       "      fill: #D2E3FC;\n",
       "    }\n",
       "\n",
       "    [theme=dark] .colab-df-convert:hover {\n",
       "      background-color: #434B5C;\n",
       "      box-shadow: 0px 1px 3px 1px rgba(0, 0, 0, 0.15);\n",
       "      filter: drop-shadow(0px 1px 2px rgba(0, 0, 0, 0.3));\n",
       "      fill: #FFFFFF;\n",
       "    }\n",
       "  </style>\n",
       "\n",
       "      <script>\n",
       "        const buttonEl =\n",
       "          document.querySelector('#df-4ed62e22-a4f7-40a3-af6b-7c59700c0d0f button.colab-df-convert');\n",
       "        buttonEl.style.display =\n",
       "          google.colab.kernel.accessAllowed ? 'block' : 'none';\n",
       "\n",
       "        async function convertToInteractive(key) {\n",
       "          const element = document.querySelector('#df-4ed62e22-a4f7-40a3-af6b-7c59700c0d0f');\n",
       "          const dataTable =\n",
       "            await google.colab.kernel.invokeFunction('convertToInteractive',\n",
       "                                                     [key], {});\n",
       "          if (!dataTable) return;\n",
       "\n",
       "          const docLinkHtml = 'Like what you see? Visit the ' +\n",
       "            '<a target=\"_blank\" href=https://colab.research.google.com/notebooks/data_table.ipynb>data table notebook</a>'\n",
       "            + ' to learn more about interactive tables.';\n",
       "          element.innerHTML = '';\n",
       "          dataTable['output_type'] = 'display_data';\n",
       "          await google.colab.output.renderOutput(dataTable, element);\n",
       "          const docLink = document.createElement('div');\n",
       "          docLink.innerHTML = docLinkHtml;\n",
       "          element.appendChild(docLink);\n",
       "        }\n",
       "      </script>\n",
       "    </div>\n",
       "  </div>\n",
       "  "
      ],
      "text/plain": [
       "                                            clean_lower  Label\n",
       "0       clandestine industries  hi  i note you have ...      0\n",
       "1      sailor moon musicals i tried to add the clari...      0\n",
       "2     that was my point i wanted to rewrite the enti...      0\n",
       "3       channel 4 documentary  nice work prioryman i...      0\n",
       "4     is this species named after sir david attenbor...      0\n",
       "...                                                 ...    ...\n",
       "2005  series scrapped on 4th july on a few ppl hav l...      2\n",
       "2006            no actually she has an economics degree      2\n",
       "2007  liar liar pants on fire seriously i looked at ...      2\n",
       "2008                       i love to eat rectal yoghurt      2\n",
       "2009   dude i am trying to make a joke for my friend...      2\n",
       "\n",
       "[2010 rows x 2 columns]"
      ]
     },
     "execution_count": 43,
     "metadata": {},
     "output_type": "execute_result"
    }
   ],
   "source": [
    "NB_df"
   ]
  },
  {
   "cell_type": "code",
   "execution_count": null,
   "metadata": {
    "id": "2_5hmfsSLU7O"
   },
   "outputs": [],
   "source": [
    "y_NB = NB_df['Label']\n",
    "X_NB = NB_df[['clean_lower']]"
   ]
  },
  {
   "cell_type": "code",
   "execution_count": null,
   "metadata": {
    "id": "E9jj1jN5LU7O"
   },
   "outputs": [],
   "source": [
    "X_NB_train, X_NB_test, y_NB_train, y_NB_test = train_test_split(X_NB, y_NB, test_size=0.7, random_state=460)"
   ]
  },
  {
   "cell_type": "code",
   "execution_count": null,
   "metadata": {
    "colab": {
     "base_uri": "https://localhost:8080/"
    },
    "id": "Rilk8rYqLU7O",
    "outputId": "509ba2a8-2f8f-43fa-d523-722ede028175"
   },
   "outputs": [
    {
     "data": {
      "text/plain": [
       "Pipeline(steps=[('tfidf',\n",
       "                 ColumnTransformer(remainder='passthrough',\n",
       "                                   transformers=[('tfidf1', TfidfVectorizer(),\n",
       "                                                  'clean_lower')])),\n",
       "                ('classify', MultinomialNB())])"
      ]
     },
     "execution_count": 46,
     "metadata": {},
     "output_type": "execute_result"
    }
   ],
   "source": [
    "NB_pipe = Pipeline([\n",
    "                  ('tfidf', column_transformer),\n",
    "                  ('classify', NB)\n",
    "                ])\n",
    "NB_pipe.fit(X_NB_train,y_NB_train)"
   ]
  },
  {
   "cell_type": "code",
   "execution_count": null,
   "metadata": {
    "colab": {
     "base_uri": "https://localhost:8080/"
    },
    "id": "6QH-8DoHLU7O",
    "outputId": "5c304b57-7c5a-4015-ea7f-92befdb3fef8"
   },
   "outputs": [
    {
     "name": "stdout",
     "output_type": "stream",
     "text": [
      "Accuracy: 60.83866382373845\n",
      "Classification report : \n",
      "               precision    recall  f1-score   support\n",
      "\n",
      "           0       0.67      0.73      0.70       475\n",
      "           1       0.54      0.62      0.58       463\n",
      "           2       0.61      0.46      0.53       469\n",
      "\n",
      "    accuracy                           0.61      1407\n",
      "   macro avg       0.61      0.61      0.60      1407\n",
      "weighted avg       0.61      0.61      0.60      1407\n",
      "\n"
     ]
    }
   ],
   "source": [
    "predictions_NB = NB_pipe.predict(X_NB_test)\n",
    "nb_accuracy = accuracy_score(predictions_NB, y_test)*100\n",
    "\n",
    "NB_matrix = classification_report(y_NB_test,predictions_NB,labels=[0,1,2])\n",
    "print(\"Accuracy:\", nb_accuracy)\n",
    "print('Classification report : \\n',NB_matrix)"
   ]
  },
  {
   "cell_type": "code",
   "execution_count": null,
   "metadata": {
    "colab": {
     "base_uri": "https://localhost:8080/"
    },
    "id": "2QRlx0xoLU7O",
    "outputId": "a1e6eea6-e8b0-463a-ae7d-8c5dd3756d73"
   },
   "outputs": [
    {
     "name": "stdout",
     "output_type": "stream",
     "text": [
      "Accuracy: 60.056858564321246\n",
      "Classification report : \n",
      "               precision    recall  f1-score   support\n",
      "\n",
      "           0       0.69      0.67      0.68       475\n",
      "           1       0.56      0.53      0.55       463\n",
      "           2       0.55      0.60      0.58       469\n",
      "\n",
      "    accuracy                           0.60      1407\n",
      "   macro avg       0.60      0.60      0.60      1407\n",
      "weighted avg       0.60      0.60      0.60      1407\n",
      "\n"
     ]
    }
   ],
   "source": [
    "predictions_SVM = SVM_pipe.predict(X_NB_test)\n",
    "svm_accuracy = accuracy_score(predictions_SVM, y_NB_test)*100\n",
    "\n",
    "SVM_matrix = classification_report(y_NB_test,predictions_SVM,labels=[0,1,2])\n",
    "print(\"Accuracy:\", svm_accuracy)\n",
    "print('Classification report : \\n',SVM_matrix)"
   ]
  },
  {
   "cell_type": "code",
   "execution_count": null,
   "metadata": {
    "colab": {
     "base_uri": "https://localhost:8080/"
    },
    "id": "_WyksnUiLU7P",
    "outputId": "2e6dfbf5-0ffc-4ec0-cc57-6946510de390"
   },
   "outputs": [
    {
     "name": "stdout",
     "output_type": "stream",
     "text": [
      "Accuracy: 54.44207533759773\n",
      "Classification report : \n",
      "               precision    recall  f1-score   support\n",
      "\n",
      "           0       0.64      0.59      0.62       475\n",
      "           1       0.46      0.50      0.48       463\n",
      "           2       0.54      0.54      0.54       469\n",
      "\n",
      "    accuracy                           0.54      1407\n",
      "   macro avg       0.55      0.54      0.55      1407\n",
      "weighted avg       0.55      0.54      0.55      1407\n",
      "\n"
     ]
    }
   ],
   "source": [
    "predictions_LGBM = LGBM_pipe.predict(X_NB_test)\n",
    "\n",
    "lgbm_accuracy = accuracy_score(predictions_LGBM, y_NB_test)*100\n",
    "LGBM_matrix = classification_report(y_NB_test,predictions_LGBM)\n",
    "print(\"Accuracy:\", lgbm_accuracy)\n",
    "print('Classification report : \\n',LGBM_matrix)"
   ]
  },
  {
   "cell_type": "code",
   "execution_count": null,
   "metadata": {
    "colab": {
     "base_uri": "https://localhost:8080/"
    },
    "id": "iLL8RS3qLU7P",
    "outputId": "0b55450f-a192-40f5-fe94-3a291da30519"
   },
   "outputs": [
    {
     "name": "stdout",
     "output_type": "stream",
     "text": [
      "Accuracy: 58.42217484008528\n",
      "Classification report : \n",
      "               precision    recall  f1-score   support\n",
      "\n",
      "           0       0.67      0.59      0.62       475\n",
      "           1       0.55      0.52      0.53       463\n",
      "           2       0.55      0.65      0.59       469\n",
      "\n",
      "    accuracy                           0.58      1407\n",
      "   macro avg       0.59      0.58      0.58      1407\n",
      "weighted avg       0.59      0.58      0.58      1407\n",
      "\n"
     ]
    }
   ],
   "source": [
    "predictions_XGB = XGB_pipe.predict(X_NB_test)\n",
    "\n",
    "xgb_accuracy = accuracy_score(predictions_XGB, y_NB_test)*100\n",
    "XGB_matrix = classification_report(y_NB_test,predictions_XGB,labels=[0,1,2])\n",
    "print(\"Accuracy:\", xgb_accuracy)\n",
    "print('Classification report : \\n',XGB_matrix)"
   ]
  },
  {
   "cell_type": "code",
   "execution_count": null,
   "metadata": {
    "colab": {
     "base_uri": "https://localhost:8080/"
    },
    "id": "D9M2z1wjLU7P",
    "outputId": "78a114d6-ce7f-499d-96c0-8b86d0e17ddf"
   },
   "outputs": [
    {
     "name": "stdout",
     "output_type": "stream",
     "text": [
      "Accuracy: 59.985785358919685\n",
      "Classification report : \n",
      "               precision    recall  f1-score   support\n",
      "\n",
      "           0       0.68      0.68      0.68       475\n",
      "           1       0.56      0.53      0.55       463\n",
      "           2       0.56      0.59      0.57       469\n",
      "\n",
      "    accuracy                           0.60      1407\n",
      "   macro avg       0.60      0.60      0.60      1407\n",
      "weighted avg       0.60      0.60      0.60      1407\n",
      "\n"
     ]
    }
   ],
   "source": [
    "predictions_LR = LR_pipe.predict(X_NB_test)\n",
    "\n",
    "lr_accuracy = accuracy_score(predictions_LR, y_NB_test)*100\n",
    "LR_matrix = classification_report(y_NB_test,predictions_LR)\n",
    "print(\"Accuracy:\", lr_accuracy)\n",
    "print('Classification report : \\n',LR_matrix)"
   ]
  }
 ],
 "metadata": {
  "colab": {
   "collapsed_sections": [],
   "name": "jas.ipynb",
   "provenance": [],
   "toc_visible": true
  },
  "kernelspec": {
   "display_name": "Python 3",
   "language": "python",
   "name": "python3"
  },
  "language_info": {
   "codemirror_mode": {
    "name": "ipython",
    "version": 3
   },
   "file_extension": ".py",
   "mimetype": "text/x-python",
   "name": "python",
   "nbconvert_exporter": "python",
   "pygments_lexer": "ipython3",
   "version": "3.8.8"
  }
 },
 "nbformat": 4,
 "nbformat_minor": 1
}
